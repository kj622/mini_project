{
 "cells": [
  {
   "cell_type": "markdown",
   "id": "6a072296",
   "metadata": {},
   "source": [
    "# Weekly assesment\n",
    "## Week 2 \n",
    "### Question 3 \n",
    "#### Answer :"
   ]
  },
  {
   "cell_type": "code",
   "execution_count": 2,
   "id": "9f74853e",
   "metadata": {},
   "outputs": [],
   "source": [
    "import matplotlib.pyplot as plt\n",
    "import numpy as np"
   ]
  },
  {
   "cell_type": "code",
   "execution_count": 3,
   "id": "a53d4c48",
   "metadata": {},
   "outputs": [
    {
     "name": "stdout",
     "output_type": "stream",
     "text": [
      "[0 1 2 3 4 5 6 7 8 9]\n",
      "[ 0  1  2  3 25 25 25  7  8  9]\n",
      "[-1 25 25]\n",
      "[ 0  1  2  3 25 25 25  7  8  9]\n"
     ]
    }
   ],
   "source": [
    "my_arr = np.arange(10)\n",
    "print(my_arr)\n",
    "my_arr[4:7] = 25\n",
    "print(my_arr)\n",
    "c_arr=my_arr.copy() # added a new array just to copy the array \n",
    "arr_slice = c_arr[4:7]\n",
    "# Change the first element of arr_slice to -1\n",
    "arr_slice[0]= -1\n",
    "print(arr_slice)\n",
    "print(my_arr)"
   ]
  },
  {
   "cell_type": "markdown",
   "id": "0703376a",
   "metadata": {},
   "source": [
    "### Question 4 \n",
    "#### Answer :"
   ]
  },
  {
   "cell_type": "code",
   "execution_count": 4,
   "id": "602057b8",
   "metadata": {},
   "outputs": [
    {
     "data": {
      "image/png": "[encoded data removed]",
      "text/plain": [
       "<Figure size 640x480 with 1 Axes>"
      ]
     },
     "metadata": {},
     "output_type": "display_data"
    }
   ],
   "source": [
    "black = np.zeros((200,200), dtype=np.uint8) # \"uint8\"\n",
    "circle1 = plt.Circle((100, 100), 25, color='w') # circle parameter and concept similiar to JavaFX (x=100,y=100, radius = 25 and white color)\n",
    "    \n",
    "fig,ax = plt.subplots() # added to add a matrix or 2D-array to the image, so that circle can be added into image (add image into the matrix)\n",
    "ax.add_artist(circle1) # add the circle to the image\n",
    "\n",
    "plt.imshow(black, cmap = plt.cm.gray) #\"gray\"\n",
    "plt.title(\"black imagen with white circular spot at the middle\")\n",
    "plt.xticks([]),plt.yticks([])\n",
    "plt.show()"
   ]
  },
  {
   "cell_type": "code",
   "execution_count": null,
   "id": "d1aad31c",
   "metadata": {},
   "outputs": [],
   "source": []
  }
 ],
 "metadata": {
  "kernelspec": {
   "display_name": "Python 3 (ipykernel)",
   "language": "python",
   "name": "python3"
  },
  "language_info": {
   "codemirror_mode": {
    "name": "ipython",
    "version": 3
   },
   "file_extension": ".py",
   "mimetype": "text/x-python",
   "name": "python",
   "nbconvert_exporter": "python",
   "pygments_lexer": "ipython3",
   "version": "3.10.9"
  }
 },
 "nbformat": 4,
 "nbformat_minor": 5
}
