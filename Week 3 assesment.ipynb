{
 "cells": [
  {
   "cell_type": "code",
   "execution_count": 1,
   "id": "f7c636cb",
   "metadata": {},
   "outputs": [
    {
     "name": "stdout",
     "output_type": "stream",
     "text": [
      "Requirement already satisfied: imageio in c:\\users\\kai jing\\appdata\\local\\programs\\python\\python311\\lib\\site-packages (2.31.1)\n",
      "Requirement already satisfied: numpy in c:\\users\\kai jing\\appdata\\local\\programs\\python\\python311\\lib\\site-packages (from imageio) (1.25.1)\n",
      "Requirement already satisfied: pillow>=8.3.2 in c:\\users\\kai jing\\appdata\\local\\programs\\python\\python311\\lib\\site-packages (from imageio) (10.0.0)\n"
     ]
    }
   ],
   "source": [
    "import sys\n",
    "assert sys.version_info >= (3,7)\n",
    "\n",
    "import numpy as np\n",
    "import cv2 as cv\n",
    "!pip install imageio"
   ]
  },
  {
   "cell_type": "code",
   "execution_count": 2,
   "id": "9df03944",
   "metadata": {},
   "outputs": [],
   "source": [
    "import imageio"
   ]
  },
  {
   "cell_type": "markdown",
   "id": "26c5c006",
   "metadata": {},
   "source": [
    "# Question 3"
   ]
  },
  {
   "cell_type": "code",
   "execution_count": 3,
   "id": "afc1f5ee",
   "metadata": {},
   "outputs": [],
   "source": [
    "cap = cv.VideoCapture(\"videos/img_pexels.mp4\")\n",
    "\n",
    "if not cap.isOpened():\n",
    "    sys.exit(\"No such file!\")\n",
    "\n",
    "while True:\n",
    "    #first output id boolean\n",
    "    ret, frame = cap.read()\n",
    "  \n",
    "    if not ret:\n",
    "        print(\"No frame received!\")\n",
    "        break \n",
    "    f=0.5\n",
    "    fps = cap.get(cv.CAP_PROP_FPS)\n",
    "    frame = cv.resize(frame,None,fx=f,fy=f)\n",
    "    cv.imshow(\"frame\", frame)\n",
    "    cv.VideoWriter(\"smaller_img_pexels.avi\",cv.VideoWriter_fourcc(*\"MJPG\"), fps,(200,250))\n",
    "    k = cv.waitKey(1) & 0xFF #numlock detect only last 8 bits\n",
    "    if k == 115: #press s key // alt way: 115 to ord(\"s\")\n",
    "        break\n",
    "        \n",
    "cap.release()\n",
    "cv.destroyAllWindows()"
   ]
  },
  {
   "cell_type": "markdown",
   "id": "d2519340",
   "metadata": {},
   "source": [
    "# Question 4"
   ]
  },
  {
   "cell_type": "code",
   "execution_count": null,
   "id": "045b15ee",
   "metadata": {},
   "outputs": [],
   "source": [
    "img = cv.imread(\"images/dog.jfif\")\n",
    "f = 2\n",
    "fx = int(img.shape[1] * f)\n",
    "fy = int(img.shape[0] * f)\n",
    "\n",
    "#linear interpolation\n",
    "enlarged_img = cv.resize(img, (fx, fy), interpolation=cv.INTER_LINEAR)\n",
    "#cubic interpolation\n",
    "img2 = cv.resize(img, (fx, fy), interpolation=cv.INTER_CUBIC)\n",
    "#nearest neighbour interpolation\n",
    "img3 = cv.resize(img, (fx, fy), interpolation=cv.INTER_NEAREST)\n",
    "\n",
    "\n",
    "cv.imshow(\"Enlarged Image (Linear Interpolation)\", enlarged_img)\n",
    "cv.imshow(\"Enlarged Image (Cubic Interpolation)\", img2)\n",
    "cv.imshow(\"Enlarged Image (Nearest neighbour Interpolation)\", img3)\n",
    "cv.waitKey(0)\n",
    "cv.destroyAllWindows()\n",
    "\n",
    "#based on my observation linear interpolation methods tends to enlarge the image clearest than the other two, followed up by cubic interpolation and at last nearest neightbour interpolation "
   ]
  }
 ],
 "metadata": {
  "kernelspec": {
   "display_name": "Python 3 (ipykernel)",
   "language": "python",
   "name": "python3"
  },
  "language_info": {
   "codemirror_mode": {
    "name": "ipython",
    "version": 3
   },
   "file_extension": ".py",
   "mimetype": "text/x-python",
   "name": "python",
   "nbconvert_exporter": "python",
   "pygments_lexer": "ipython3",
   "version": "3.11.4"
  }
 },
 "nbformat": 4,
 "nbformat_minor": 5
}
