{
 "cells": [
  {
   "cell_type": "markdown",
   "id": "e3e2ebda",
   "metadata": {},
   "source": [
    "# Week 5 assesment\n",
    "## Q1"
   ]
  },
  {
   "cell_type": "code",
   "execution_count": 3,
   "id": "6832a447",
   "metadata": {},
   "outputs": [
    {
     "name": "stdout",
     "output_type": "stream",
     "text": [
      "Requirement already satisfied: imutils in c:\\users\\kai jing\\appdata\\local\\programs\\python\\python311\\lib\\site-packages (0.5.4)\n"
     ]
    },
    {
     "name": "stderr",
     "output_type": "stream",
     "text": [
      "\n",
      "[notice] A new release of pip is available: 23.1.2 -> 23.2.1\n",
      "[notice] To update, run: C:\\Users\\Kai Jing\\AppData\\Local\\Programs\\Python\\Python311\\python.exe -m pip install --upgrade pip\n"
     ]
    }
   ],
   "source": [
    "import sys\n",
    "# assert Python 3.7 or later is required\n",
    "assert sys.version_info >= (3, 7)\n",
    "import cv2 as cv\n",
    "import numpy as np\n",
    "from util_func import *\n",
    "\n",
    "# Make sure that optimization is enabled\n",
    "if not cv.useOptimized():\n",
    "    cv.setUseOptimized(True)\n",
    "cv.useOptimized()\n",
    "\n",
    "!pip install imutils\n",
    "import imutils as im\n",
    "\n",
    "img = cv.imread(\"images/lena.jfif\")\n",
    "dst = im.rotate_bound(img,-45)\n",
    "\n",
    "show_img(\"rotation\",dst)"
   ]
  },
  {
   "cell_type": "markdown",
   "id": "1d05c851",
   "metadata": {},
   "source": [
    "##  Q2"
   ]
  },
  {
   "cell_type": "code",
   "execution_count": 5,
   "id": "e4848918",
   "metadata": {},
   "outputs": [],
   "source": [
    "# Load two images\n",
    "img1 = cv.imread('images/flower.jfif')\n",
    "img2 = cv.imread('images/native-bee.png')\n",
    "\n",
    "# I want to put logo on top-left corner, So I create a ROI\n",
    "rows,cols,channels = img1.shape\n",
    "roi = img2[0:rows, 0:cols]\n",
    "\n",
    "# Now create a mask of logo and create its inverse mask also\n",
    "img1gray = cv.cvtColor(img1,cv.COLOR_BGR2GRAY)\n",
    "ret, mask = cv.threshold(img1gray, 80, 255, cv.THRESH_BINARY)\n",
    "mask_inv = cv.bitwise_not(mask)\n",
    "\n",
    "# Now black-out the area of logo in ROI\n",
    "img2_bg = cv.bitwise_and(roi,roi,mask=mask_inv)\n",
    "\n",
    "# Take only region of logo from logo image.\n",
    "img1_fg = cv.bitwise_and(img1,img1,mask = mask)\n",
    "# Put logo in ROI and modify the main image\n",
    "dst = cv.add(img1_fg,img2_bg)\n",
    "img2[0:rows, 0:cols ] = dst\n",
    "\n",
    "cv.imshow('res',img2)\n",
    "cv.waitKey(0)\n",
    "cv.destroyAllWindows()"
   ]
  },
  {
   "cell_type": "markdown",
   "id": "bf6174a5",
   "metadata": {},
   "source": [
    "## Q3"
   ]
  },
  {
   "cell_type": "code",
   "execution_count": 6,
   "id": "05729247",
   "metadata": {},
   "outputs": [],
   "source": [
    "# identity kernel\n",
    "kernel_1 = np.array([[0,-1,0],[-1,5,-1],[0,-1,0]])\n",
    "kernel_2 = np.zeros((5,5))-1\n",
    "kernel_2[2,2]=25\n",
    "\n",
    "img =cv.imread(\"images/native-bee.png\")\n",
    "dst_1 = cv.filter2D(img,-1,kernel_1)\n",
    "dst_2 = cv.filter2D(img,-1,kernel_2)\n",
    "\n",
    "show_img(\"kernel 3x3 \",dst_1)\n",
    "show_img(\"kernel 5x5 \",dst_2)\n",
    "\n",
    "# using 3x3 kernel, the image become sharper and able to see more details while 5x5 kernel made images loss its details and become too bright"
   ]
  },
  {
   "cell_type": "markdown",
   "id": "7085f1d0",
   "metadata": {},
   "source": [
    "## q4"
   ]
  },
  {
   "cell_type": "code",
   "execution_count": 7,
   "id": "abd636c3",
   "metadata": {},
   "outputs": [],
   "source": [
    "img =cv.imread(\"images/noise_lena.jpg\")\n",
    "# average filter\n",
    "blur_1 = cv.blur(img,(5,5))\n",
    "    \n",
    "# gaussian filter\n",
    "blur_2 = cv.GaussianBlur(img,[3,3],0,0)\n",
    "\n",
    "# median filter\n",
    "blur_3 = cv.medianBlur(img,5)\n",
    "\n",
    "show_img(\"average \",blur_1)\n",
    "show_img(\"gaussian \",blur_2)\n",
    "show_img(\"median \",blur_3)\n",
    "\n",
    "#based on obeservation median filter's bluring effect work the best as it does not affect pictures quality while average and gaussian filter blur the image but added some pixels blurring effect as well"
   ]
  },
  {
   "cell_type": "code",
   "execution_count": null,
   "id": "79646426",
   "metadata": {},
   "outputs": [],
   "source": []
  }
 ],
 "metadata": {
  "kernelspec": {
   "display_name": "Python 3 (ipykernel)",
   "language": "python",
   "name": "python3"
  },
  "language_info": {
   "codemirror_mode": {
    "name": "ipython",
    "version": 3
   },
   "file_extension": ".py",
   "mimetype": "text/x-python",
   "name": "python",
   "nbconvert_exporter": "python",
   "pygments_lexer": "ipython3",
   "version": "3.11.4"
  }
 },
 "nbformat": 4,
 "nbformat_minor": 5
}
